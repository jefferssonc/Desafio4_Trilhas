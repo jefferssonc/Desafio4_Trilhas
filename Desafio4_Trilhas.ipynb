{
  "nbformat": 4,
  "nbformat_minor": 0,
  "metadata": {
    "colab": {
      "provenance": []
    },
    "kernelspec": {
      "name": "python3",
      "display_name": "Python 3"
    },
    "language_info": {
      "name": "python"
    }
  },
  "cells": [
    {
      "cell_type": "markdown",
      "source": [
        "# **Desafio 4 - Trilhas**"
      ],
      "metadata": {
        "id": "H581PkdwVRxg"
      }
    },
    {
      "cell_type": "markdown",
      "source": [
        "## **Introdução**\n",
        "O seu gerente lhe apresentou uma planilha contendo dados sobre a situação atual dos clientes do banco em alguns estados do Nordeste, a fim de analisar e ajudar na tomada de decisão. No entanto, como é de se esperar, os dados brutos apresentam diversas inconsistências e precisam passar por um processo de limpeza. Então, você, como um bom cientista de dados, sabe que nem tudo são flores: os dados são como petróleo bruto, mas inúteis até serem devidamente refinados para análises e tomadas de decisão."
      ],
      "metadata": {
        "id": "t4cAjUT_VgSw"
      }
    },
    {
      "cell_type": "markdown",
      "source": [
        "### **PARTE 1 - LIMPEZA E TRATAMENTO DE DADOS:**"
      ],
      "metadata": {
        "id": "QN-BoG0dl1CM"
      }
    },
    {
      "cell_type": "markdown",
      "source": [
        "#### Importação de bibliotecas e leitura do dataset"
      ],
      "metadata": {
        "id": "tjVU44ReVGro"
      }
    },
    {
      "cell_type": "code",
      "execution_count": null,
      "metadata": {
        "id": "AXgkW15RUgvb"
      },
      "outputs": [],
      "source": [
        "import pandas as pd\n",
        "import numpy as np\n",
        "import seaborn as sns\n",
        "import matplotlib.pyplot as plt\n",
        "\n",
        "# Leitura do arquivo CSV\n",
        "url = \"https://raw.githubusercontent.com/jefferssonc/Desafio4_Trilhas/refs/heads/main/Trilhas2B-Desafio%204.csv\"\n",
        "df = pd.read_csv(url)\n",
        "\n",
        "# Visualização inicial\n",
        "df.head()\n"
      ]
    },
    {
      "cell_type": "markdown",
      "source": [
        " ####  Altere os nomes das colunas para letras minúsculas, utilizando a biblioteca pandas"
      ],
      "metadata": {
        "id": "2yb0D3vqmFD0"
      }
    },
    {
      "cell_type": "code",
      "source": [
        "df.columns = df.columns.str.lower()\n",
        "df.columns.tolist()\n"
      ],
      "metadata": {
        "id": "7yhRcgFvVGER"
      },
      "execution_count": null,
      "outputs": []
    },
    {
      "cell_type": "code",
      "source": [
        "print(f\"Valores únicos de idade {df['idade'].unique()}\\nValores únicos de genero {df['genero'].unique()}\\nValores únicos de estado {df['estado'].unique()}\")"
      ],
      "metadata": {
        "id": "vRsyQt9HvSdS"
      },
      "execution_count": null,
      "outputs": []
    },
    {
      "cell_type": "code",
      "source": [
        "# Calcular a porcentagem de NaNs na coluna 'genero'\n",
        "percentual_nan_genero = df['genero'].isna().mean() * 100\n",
        "\n",
        "# Exibir o resultado com duas casas decimais\n",
        "print(f\"Porcentagem de valores ausentes (NaN) em 'genero': {percentual_nan_genero:.2f}%\")\n"
      ],
      "metadata": {
        "id": "6DZY3yE82lDp"
      },
      "execution_count": null,
      "outputs": []
    },
    {
      "cell_type": "code",
      "source": [
        "#Taxa pequena então ao invés de dropar irei apenas mudar o status das mesmas\n",
        "df['genero'] = df['genero'].fillna('Não Informado')\n",
        "print(df['genero'].unique())"
      ],
      "metadata": {
        "id": "k0TEwP7C21XE"
      },
      "execution_count": null,
      "outputs": []
    },
    {
      "cell_type": "code",
      "source": [
        "# Definir siglas válidas\n",
        "siglas_validas = ['AC', 'AL', 'AP', 'AM', 'BA', 'CE', 'DF', 'ES', 'GO', 'MA', 'MT', 'MS', 'MG', 'PA', 'PB', 'PR', 'PE', 'PI', 'RJ', 'RN', 'RS', 'RO', 'RR', 'SC', 'SP', 'SE', 'TO']\n",
        "\n",
        "# Calcular o número de registros com siglas inválidas\n",
        "qtd_invalidas = (df['estado'].apply(lambda x: x not in siglas_validas)).sum()\n",
        "\n",
        "# Calcular a porcentagem de siglas inválidas\n",
        "qtd_total = len(df)\n",
        "porcentagem_invalidas = (qtd_invalidas / qtd_total) * 100\n",
        "\n",
        "# Exibir o resultado\n",
        "print(f\"Quantidade de siglas inválidas: {qtd_invalidas}\")\n",
        "print(f\"Porcentagem de siglas inválidas: {porcentagem_invalidas:.2f}%\")\n"
      ],
      "metadata": {
        "id": "lZo4CSVI2_UW"
      },
      "execution_count": null,
      "outputs": []
    },
    {
      "cell_type": "code",
      "source": [
        "#Aqui já irei optar por dropar, mas nada impediria de mudar o status da sigla errada, no fim só quero usar outra abordagem além de dropar :)\n",
        "# Remover registros com siglas inválidas\n",
        "df = df[df['estado'].isin(siglas_validas)].reset_index(drop=True)\n",
        "print(df['estado'].unique())\n"
      ],
      "metadata": {
        "id": "zlYrB9QE3G-E"
      },
      "execution_count": null,
      "outputs": []
    },
    {
      "cell_type": "markdown",
      "source": [
        " #### Explorar colunas categóricas com `groupby()` e visualização"
      ],
      "metadata": {
        "id": "T0-IxD9amikU"
      }
    },
    {
      "cell_type": "code",
      "source": [
        "# Análise de colunas categóricas com groupby\n",
        "print(\"\\nClientes por estado:\")\n",
        "print(df.groupby('estado')['id'].count().sort_values(ascending=False))\n",
        "\n",
        "print(\"\\nClientes por gênero:\")\n",
        "print(df.groupby('genero')['id'].count())\n",
        "\n",
        "print(\"\\nPossui cartão por estado:\")\n",
        "print(df.groupby(['estado', 'possui cartao'])['id'].count().unstack())\n",
        "\n",
        "print(\"\\nRelação entre cliente ativo e saiu:\")\n",
        "print(df.groupby(['ativo', 'saiu'])['id'].count().unstack())\n",
        "\n",
        "\n"
      ],
      "metadata": {
        "id": "xA6PzUFU70F4"
      },
      "execution_count": null,
      "outputs": []
    },
    {
      "cell_type": "code",
      "source": [
        "# Gráficos para análise de colunas categóricas\n",
        "plt.figure(figsize=(10,6))\n",
        "sns.countplot(data=df, x='estado', order=df['estado'].value_counts().index)\n",
        "plt.title('Distribuição de Clientes por Estado')\n",
        "plt.xticks(rotation=45)\n",
        "plt.show()\n",
        "\n",
        "plt.figure(figsize=(8,5))\n",
        "sns.countplot(data=df, x='genero')\n",
        "plt.title('Distribuição de Clientes por Gênero')\n",
        "plt.show()\n",
        "\n",
        "plt.figure(figsize=(10,6))\n",
        "sns.countplot(data=df, x='estado', hue='possui cartao', order=df['estado'].value_counts().index)\n",
        "plt.title('Possui Cartão por Estado')\n",
        "plt.xticks(rotation=45)\n",
        "plt.legend(title='Possui Cartão')\n",
        "plt.show()\n",
        "\n",
        "plt.figure(figsize=(8,5))\n",
        "sns.countplot(data=df, x='ativo', hue='saiu')\n",
        "plt.title('Cliente Ativo vs Churn')\n",
        "plt.legend(title='SAIU')\n",
        "plt.show()"
      ],
      "metadata": {
        "id": "1zDRhPt68V7t"
      },
      "execution_count": null,
      "outputs": []
    },
    {
      "cell_type": "markdown",
      "source": [
        " #### Explorar colunas numéricas com `describe()` e boxplots"
      ],
      "metadata": {
        "id": "MYbpnQvVm2Oc"
      }
    },
    {
      "cell_type": "code",
      "source": [
        "print(df.describe())\n",
        "\n",
        "# Boxplot para detectar outliers\n",
        "num_cols = df.select_dtypes(include=np.number).columns\n",
        "plt.figure(figsize=(15,8))\n",
        "df[num_cols].boxplot(rot=90)\n",
        "plt.title(\"Boxplot das Categorias Numéricas\")\n",
        "plt.show()\n"
      ],
      "metadata": {
        "id": "Os3v2zehmawb"
      },
      "execution_count": null,
      "outputs": []
    },
    {
      "cell_type": "code",
      "source": [
        "# Boxplot para cada categoria(separado) para detectar outliers\n",
        "colunas_numericas = df.select_dtypes(exclude='object').columns\n",
        "for col in colunas_numericas:\n",
        "    plt.figure(figsize=(8,4))\n",
        "    sns.boxplot(data=df, y=col)\n",
        "    plt.title(f'Boxplot de {col}')\n",
        "    plt.show()"
      ],
      "metadata": {
        "id": "Cf-dJbL3yjV6"
      },
      "execution_count": null,
      "outputs": []
    },
    {
      "cell_type": "markdown",
      "source": [
        " #### Corrigir valores faltantes\n",
        "\n",
        "\n"
      ],
      "metadata": {
        "id": "5hvIHvBinJ6z"
      }
    },
    {
      "cell_type": "code",
      "source": [
        "# Verificar valores faltantes\n",
        "print(f\"{'='*15}Antes do tratamento{'='*15}\")\n",
        "print(df.isnull().sum())\n",
        "\n",
        "# Preencher valores numéricos com a mediana\n",
        "df[num_cols] = df[num_cols].fillna(df[num_cols].median())\n",
        "\n",
        "# Preencher valores categóricos com a moda\n",
        "colunas_categoricas = df.select_dtypes(include='object').columns\n",
        "for col in colunas_categoricas:\n",
        "    df[col] = df[col].fillna(df[col].mode()[0])\n",
        "\n",
        "# Verificar novamente\n",
        "print(f\"{'='*15}Depois do tratamento{'='*15}\")\n",
        "print(df.isnull().sum())\n"
      ],
      "metadata": {
        "id": "O6GwpIUima2r"
      },
      "execution_count": null,
      "outputs": []
    },
    {
      "cell_type": "markdown",
      "source": [
        " #### Tratar outliers (exemplo com IQR)"
      ],
      "metadata": {
        "id": "HpEPbT9ToZ2r"
      }
    },
    {
      "cell_type": "code",
      "source": [
        "# Lista de colunas numéricas que vamos tratar\n",
        "colunas_numericas = ['pontos', 'idade', 'bens', 'saldo na conta', 'salario anual']\n",
        "\n",
        "for coluna in colunas_numericas:\n",
        "    # Calculando Q1, Q3 e IQR\n",
        "    Q1 = df[coluna].quantile(0.25)\n",
        "    Q3 = df[coluna].quantile(0.75)\n",
        "    IQR = Q3 - Q1\n",
        "\n",
        "    # Definindo limites superior e inferior\n",
        "    limite_inferior = Q1 - 1.5 * IQR\n",
        "    limite_superior = Q3 + 1.5 * IQR\n",
        "\n",
        "    # Mediana da coluna para substituição\n",
        "    mediana = df[coluna].median()\n",
        "\n",
        "    # Substituir outliers por mediana usando np.where (mais eficiente)\n",
        "    df[coluna] = np.where(df[coluna] < limite_inferior, mediana, df[coluna])\n",
        "    df[coluna] = np.where(df[coluna] > limite_superior, mediana, df[coluna])\n",
        "\n",
        "print(\"Outliers tratados com sucesso.\")"
      ],
      "metadata": {
        "id": "GqOgLRHunI1T"
      },
      "execution_count": null,
      "outputs": []
    },
    {
      "cell_type": "markdown",
      "source": [
        " #### Eliminar duplicados"
      ],
      "metadata": {
        "id": "JV1moreRoo76"
      }
    },
    {
      "cell_type": "code",
      "source": [
        "df = df.drop_duplicates()\n",
        "print(\"Dimensão após remover duplicatas:\", df.shape)\n"
      ],
      "metadata": {
        "id": "sUSr5gEcnI6j"
      },
      "execution_count": null,
      "outputs": []
    },
    {
      "cell_type": "markdown",
      "source": [
        " #### Corrigir dados categóricos inconsistentes"
      ],
      "metadata": {
        "id": "R-rgHDkZovkC"
      }
    },
    {
      "cell_type": "code",
      "source": [
        "# Corrigir coluna \"genero\"\n",
        "df['genero'] = df['genero'].replace({\n",
        "    'Mas': 'Masculino',\n",
        "    'M': 'Masculino',\n",
        "    'Fem': 'Feminino',\n",
        "    'F': 'Feminino'\n",
        "})\n",
        "\n",
        "df['genero'].value_counts()\n"
      ],
      "metadata": {
        "id": "CQH2HSy2nJAT"
      },
      "execution_count": null,
      "outputs": []
    },
    {
      "cell_type": "code",
      "source": [
        "print(f\"Valores únicos de idade {df['idade'].unique()}\\nValores únicos de genero {df['genero'].unique()}\\nValores únicos de estado {df['estado'].unique()}\")"
      ],
      "metadata": {
        "id": "n2ZQWgYvDFFo"
      },
      "execution_count": null,
      "outputs": []
    },
    {
      "cell_type": "markdown",
      "source": [
        " #### Mostrar o tamanho do dataset"
      ],
      "metadata": {
        "id": "wauQcpAqrT4R"
      }
    },
    {
      "cell_type": "code",
      "source": [
        "print(\"Shape do dataset:\", df.shape)\n"
      ],
      "metadata": {
        "id": "kwwiMt65ou1a"
      },
      "execution_count": null,
      "outputs": []
    },
    {
      "cell_type": "markdown",
      "source": [
        "### **PARTE 2 - ESTATÍSTICA**"
      ],
      "metadata": {
        "id": "VXnKeEHTsAGo"
      }
    },
    {
      "cell_type": "markdown",
      "source": [
        "#### Média e mediana do saldo (< 40 anos)"
      ],
      "metadata": {
        "id": "d7yF5zFjsIMI"
      }
    },
    {
      "cell_type": "code",
      "source": [
        "df[df['idade'] < 40]['saldo na conta'].agg(['mean', 'median'])\n"
      ],
      "metadata": {
        "id": "iThD6CuFou7p"
      },
      "execution_count": null,
      "outputs": []
    },
    {
      "cell_type": "markdown",
      "source": [
        "#### Média e mediana do saldo (> 40 anos)"
      ],
      "metadata": {
        "id": "9d2zWkCKsd-v"
      }
    },
    {
      "cell_type": "code",
      "source": [
        "df[df['idade'] > 40]['saldo na conta'].agg(['mean', 'median'])\n"
      ],
      "metadata": {
        "id": "s8i6kV_KovBB"
      },
      "execution_count": null,
      "outputs": []
    },
    {
      "cell_type": "markdown",
      "source": [
        " #### Média e mediana do saldo por status de saída"
      ],
      "metadata": {
        "id": "BQb4wtyZsvCY"
      }
    },
    {
      "cell_type": "code",
      "source": [
        "df.groupby('saiu')['saldo na conta'].agg(['mean', 'median'])\n"
      ],
      "metadata": {
        "id": "2di7A6rwsdS_"
      },
      "execution_count": null,
      "outputs": []
    },
    {
      "cell_type": "markdown",
      "source": [
        "#### Análise do público que saiu"
      ],
      "metadata": {
        "id": "RTdOctm6s7p3"
      }
    },
    {
      "cell_type": "code",
      "source": [
        "# Filtrar os dados para clientes que saíram\n",
        "clientes_sairam = df[df['saiu'] == 1]\n",
        "\n",
        "# 1. Exibir as informações dos clientes que saíram (idade, saldo na conta, bens e estado)\n",
        "informacoes_sairam = clientes_sairam[['genero', 'idade', 'saldo na conta', 'bens', 'estado']]\n",
        "\n",
        "# 2. Verificar o público predominante (Masculino ou Feminino)\n",
        "genero_predominante = clientes_sairam['genero'].value_counts().idxmax()\n",
        "\n",
        "# 3. Calcular a quantidade por sexo (Masculino e Feminino) e seus respectivos percentuais\n",
        "sexo_count = clientes_sairam['genero'].value_counts()\n",
        "sexo_percentual = clientes_sairam['genero'].value_counts(normalize=True) * 100\n",
        "\n",
        "# 4. Calcular a distribuição percentual por estado\n",
        "estado_percentual = clientes_sairam['estado'].value_counts(normalize=True) * 100\n",
        "\n",
        "# 5. Calcular a menor e maior idade dos que saíram, tanto Masculino quanto Feminino\n",
        "menor_idade_masculino = clientes_sairam[clientes_sairam['genero'] == 'Masculino']['idade'].min()\n",
        "maior_idade_masculino = clientes_sairam[clientes_sairam['genero'] == 'Masculino']['idade'].max()\n",
        "\n",
        "menor_idade_feminino = clientes_sairam[clientes_sairam['genero'] == 'Feminino']['idade'].min()\n",
        "maior_idade_feminino = clientes_sairam[clientes_sairam['genero'] == 'Feminino']['idade'].max()\n",
        "\n",
        "# 6. Calcular a média da idade, saldo na conta e bens, tanto para Masculino quanto para Feminino\n",
        "media_idade_masculino = clientes_sairam[clientes_sairam['genero'] == 'Masculino']['idade'].mean()\n",
        "media_idade_feminino = clientes_sairam[clientes_sairam['genero'] == 'Feminino']['idade'].mean()\n",
        "\n",
        "media_saldo_masculino = clientes_sairam[clientes_sairam['genero'] == 'Masculino']['saldo na conta'].mean()\n",
        "media_saldo_feminino = clientes_sairam[clientes_sairam['genero'] == 'Feminino']['saldo na conta'].mean()\n",
        "\n",
        "media_bens_masculino = clientes_sairam[clientes_sairam['genero'] == 'Masculino']['bens'].mean()\n",
        "media_bens_feminino = clientes_sairam[clientes_sairam['genero'] == 'Feminino']['bens'].mean()\n",
        "\n",
        "# Exibir os resultados\n",
        "print(f\"Público predominante entre os que saíram: {genero_predominante}\")\n",
        "print(\"\\nInformações dos clientes que saíram (idade, saldo na conta, bens e estado):\")\n",
        "print(informacoes_sairam)\n",
        "\n",
        "print(\"\\nQuantidade de clientes por sexo e seus percentuais:\")\n",
        "print(sexo_count)\n",
        "print(sexo_percentual)\n",
        "\n",
        "print(\"\\nDistribuição percentual por estado:\")\n",
        "print(estado_percentual)\n",
        "\n",
        "print(\"\\nMenor e maior idade dos que saíram:\")\n",
        "print(f\"Masculino: Menor idade = {menor_idade_masculino:.0f}, Maior idade = {maior_idade_masculino:.0f}\")\n",
        "print(f\"Feminino: Menor idade = {menor_idade_feminino:.0f}, Maior idade = {maior_idade_feminino:.0f}\")\n",
        "\n",
        "print(\"\\nMédia dos clientes que saíram:\")\n",
        "print(f\"Masculino - Idade: {media_idade_masculino:.0f}, Saldo na conta: {media_saldo_masculino:.2f}, Bens: {media_bens_masculino:.2f}\")\n",
        "print(f\"Feminino - Idade: {media_idade_feminino:.0f}, Saldo na conta: {media_saldo_feminino:.2f}, Bens: {media_bens_feminino:.2f}\")\n"
      ],
      "metadata": {
        "id": "39yO0vUWF6io"
      },
      "execution_count": null,
      "outputs": []
    },
    {
      "cell_type": "code",
      "source": [
        "\n",
        "# Configurações dos gráficos\n",
        "sns.set(style=\"whitegrid\")\n",
        "\n",
        "# 1. Gráfico de distribuição por sexo (Masculino e Feminino)\n",
        "plt.figure(figsize=(8, 6))\n",
        "sexo_count.plot(kind='bar', color=['blue', 'orange'])\n",
        "plt.title('Distribuição por Sexo (Clientes que Saíram)')\n",
        "plt.xlabel('Sexo')\n",
        "plt.ylabel('Quantidade')\n",
        "plt.xticks(rotation=0)\n",
        "plt.show()\n",
        "\n",
        "# 2. Gráfico de distribuição percentual por sexo\n",
        "plt.figure(figsize=(8, 6))\n",
        "sexo_percentual.plot(kind='bar', color=['blue', 'orange'])\n",
        "plt.title('Percentual por Sexo (Clientes que Saíram)')\n",
        "plt.xlabel('Sexo')\n",
        "plt.ylabel('Percentual (%)')\n",
        "plt.xticks(rotation=0)\n",
        "plt.show()\n",
        "\n",
        "# 3. Gráfico de distribuição percentual por estado\n",
        "plt.figure(figsize=(10, 6))\n",
        "estado_percentual.plot(kind='bar', color='lightgreen')\n",
        "plt.title('Distribuição Percentual por Estado (Clientes que Saíram)')\n",
        "plt.xlabel('Estado')\n",
        "plt.ylabel('Percentual (%)')\n",
        "plt.xticks(rotation=45)\n",
        "plt.show()\n",
        "\n",
        "# 4. Gráfico de boxplot para distribuição de idades por gênero\n",
        "plt.figure(figsize=(8, 6))\n",
        "sns.boxplot(x='genero', y='idade', data=clientes_sairam)\n",
        "plt.title('Distribuição de Idades por Gênero (Clientes que Saíram)')\n",
        "plt.xlabel('Gênero')\n",
        "plt.ylabel('Idade')\n",
        "plt.show()\n",
        "\n",
        "# 5. Gráfico de barras para a média do saldo na conta por gênero\n",
        "media_saldo = [media_saldo_masculino, media_saldo_feminino]\n",
        "generos = ['Masculino', 'Feminino']\n",
        "\n",
        "plt.figure(figsize=(8, 6))\n",
        "plt.bar(generos, media_saldo, color=['blue', 'orange'])\n",
        "plt.title('Média do Saldo na Conta por Gênero (Clientes que Saíram)')\n",
        "plt.xlabel('Gênero')\n",
        "plt.ylabel('Média do Saldo na Conta')\n",
        "plt.show()\n",
        "\n",
        "# 6. Gráfico de barras para a média dos bens por gênero\n",
        "media_bens = [media_bens_masculino, media_bens_feminino]\n",
        "\n",
        "plt.figure(figsize=(8, 6))\n",
        "plt.bar(generos, media_bens, color=['blue', 'orange'])\n",
        "plt.title('Média dos Bens por Gênero (Clientes que Saíram)')\n",
        "plt.xlabel('Gênero')\n",
        "plt.ylabel('Média dos Bens')\n",
        "plt.show()\n"
      ],
      "metadata": {
        "id": "ph1BhQpoF6pK"
      },
      "execution_count": null,
      "outputs": []
    },
    {
      "cell_type": "code",
      "source": [
        "# Comparação entre saíram e não saíram por gênero\n",
        "plt.figure(figsize=(8,6))\n",
        "sns.countplot(data=df, x='genero', hue='saiu', palette='Set2')\n",
        "plt.title('Comparação de Gênero entre Clientes que Saíram e Permaneceram')\n",
        "plt.xlabel('Gênero')\n",
        "plt.ylabel('Quantidade')\n",
        "plt.legend(title='Saiu', labels=['Não', 'Sim'])\n",
        "plt.show()\n"
      ],
      "metadata": {
        "id": "tzWBADQ5F__k"
      },
      "execution_count": null,
      "outputs": []
    },
    {
      "cell_type": "code",
      "source": [
        "#Gráfico de pizza para mostrar distribuição por estado dos que saíram\n",
        "plt.figure(figsize=(7,7))\n",
        "estado_percentual.plot(kind='pie', autopct='%1.1f%%', startangle=90, colors=sns.color_palette(\"pastel\"))\n",
        "plt.title('Distribuição por Estado dos Clientes que Saíram')\n",
        "plt.ylabel('')\n",
        "plt.show()\n"
      ],
      "metadata": {
        "id": "eFN7H0mtGJPB"
      },
      "execution_count": null,
      "outputs": []
    },
    {
      "cell_type": "code",
      "source": [
        "#Histograma da idade dos clientes que saíram\n",
        "plt.figure(figsize=(8,6))\n",
        "sns.histplot(data=clientes_sairam, x='idade', bins=15, kde=True, color='coral')\n",
        "plt.title('Distribuição de Idade dos Clientes que Saíram')\n",
        "plt.xlabel('Idade')\n",
        "plt.ylabel('Frequência')\n",
        "plt.show()\n"
      ],
      "metadata": {
        "id": "Lf6HEc0SGAGy"
      },
      "execution_count": null,
      "outputs": []
    },
    {
      "cell_type": "code",
      "source": [
        "# Correlação entre variáveis numéricas\n",
        "plt.figure(figsize=(10, 6))\n",
        "sns.heatmap(df[colunas_numericas].corr(), annot=True, cmap='coolwarm', fmt=\".2f\")\n",
        "plt.title('Matriz de Correlação')\n",
        "plt.show()\n"
      ],
      "metadata": {
        "id": "MkEURyg8GF_X"
      },
      "execution_count": null,
      "outputs": []
    }
  ]
}